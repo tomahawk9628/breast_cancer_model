{
 "cells": [
  {
   "cell_type": "code",
   "execution_count": 1,
   "id": "b46825cc-b6b4-4d1f-b0db-c7081208643d",
   "metadata": {},
   "outputs": [],
   "source": [
    "from sklearn.datasets import make_classification\n",
    "from sklearn.model_selection import train_test_split\n",
    "import pandas as pd"
   ]
  },
  {
   "cell_type": "code",
   "execution_count": 2,
   "id": "03e8d15b-e012-44ec-ba0c-dff5b12f1ff7",
   "metadata": {},
   "outputs": [],
   "source": [
    "colName = ['ID','F2','F3','F4', 'F5','F6','F7','F8','F9','F10','class']"
   ]
  },
  {
   "cell_type": "code",
   "execution_count": 3,
   "id": "c0671008-5117-442d-8bc8-8ef6a126a2ea",
   "metadata": {},
   "outputs": [],
   "source": [
    "df = pd.read_csv('breast-cancer-wisconsin.data', names = colName, sep = ',', header=None)"
   ]
  },
  {
   "cell_type": "code",
   "execution_count": 4,
   "id": "b9679c30-3713-4096-989b-d6f5bdc326a7",
   "metadata": {},
   "outputs": [],
   "source": [
    "x = df.iloc[:,1:10]"
   ]
  },
  {
   "cell_type": "code",
   "execution_count": 6,
   "id": "afd48658-25e3-49bf-87bc-c00b52cd2698",
   "metadata": {},
   "outputs": [],
   "source": [
    "y = df['class']"
   ]
  },
  {
   "cell_type": "code",
   "execution_count": 7,
   "id": "6d0051c7-fa03-4e1e-a84f-e4f140a34f8a",
   "metadata": {},
   "outputs": [],
   "source": [
    "x_train, x_test, y_train, y_test = train_test_split(x, y, test_size = 0.25, random_state=27)"
   ]
  },
  {
   "cell_type": "code",
   "execution_count": 8,
   "id": "9a063501-5766-452a-9a8f-8319b9633071",
   "metadata": {},
   "outputs": [],
   "source": [
    "from sklearn.linear_model import LogisticRegression\n",
    "from sklearn.neighbors import KNeighborsClassifier"
   ]
  },
  {
   "cell_type": "code",
   "execution_count": 9,
   "id": "7b1e8d63-103a-4a9e-b84b-9f368fe9171c",
   "metadata": {},
   "outputs": [],
   "source": [
    "model1 = LogisticRegression(max_iter = 200)"
   ]
  },
  {
   "cell_type": "code",
   "execution_count": 10,
   "id": "1b97ec55-5726-434b-ac7f-b7e1f5b150da",
   "metadata": {},
   "outputs": [
    {
     "data": {
      "text/plain": [
       "LogisticRegression(max_iter=200)"
      ]
     },
     "execution_count": 10,
     "metadata": {},
     "output_type": "execute_result"
    }
   ],
   "source": [
    "model1.fit(x_train, y_train)"
   ]
  },
  {
   "cell_type": "code",
   "execution_count": 11,
   "id": "5468800d-c21b-4754-ba37-dfae60acad71",
   "metadata": {},
   "outputs": [],
   "source": [
    "#predict probabilites\n",
    "pred_prob1 = model1.predict_proba(x_test)"
   ]
  },
  {
   "cell_type": "code",
   "execution_count": 12,
   "id": "b26f495b-33cc-46d1-90a9-191a03066e3d",
   "metadata": {},
   "outputs": [],
   "source": [
    "from sklearn.metrics import roc_curve"
   ]
  },
  {
   "cell_type": "code",
   "execution_count": 24,
   "id": "5b59c269-5d4e-4f52-81fc-b58d99cc069e",
   "metadata": {},
   "outputs": [
    {
     "name": "stderr",
     "output_type": "stream",
     "text": [
      "C:\\Users\\denni\\AppData\\Local\\Programs\\Python\\Python310\\lib\\site-packages\\sklearn\\metrics\\_ranking.py:999: UndefinedMetricWarning: No positive samples in y_true, true positive value should be meaningless\n",
      "  warnings.warn(\n"
     ]
    }
   ],
   "source": [
    "#roc_curve for models\n",
    "fpr1, tpr1, thresh1 = roc_curve(y_test, pred_prob1[:,1], pos_label=1)"
   ]
  },
  {
   "cell_type": "code",
   "execution_count": 25,
   "id": "5253b85a-748d-40fa-9f2d-cb2cdee45fca",
   "metadata": {},
   "outputs": [
    {
     "name": "stderr",
     "output_type": "stream",
     "text": [
      "C:\\Users\\denni\\AppData\\Local\\Programs\\Python\\Python310\\lib\\site-packages\\sklearn\\metrics\\_ranking.py:999: UndefinedMetricWarning: No positive samples in y_true, true positive value should be meaningless\n",
      "  warnings.warn(\n"
     ]
    }
   ],
   "source": [
    "# roc curve for tpr = fpr\n",
    "random_probs = [0 for i in range(len(y_test))]\n",
    "p_fpr, p_tpr, _ = roc_curve(y_test, random_probs, pos_label=1)"
   ]
  },
  {
   "cell_type": "code",
   "execution_count": 26,
   "id": "743b0613-11c1-4b20-bc62-3079f48bf525",
   "metadata": {},
   "outputs": [],
   "source": [
    "from sklearn.metrics import roc_auc_score"
   ]
  },
  {
   "cell_type": "code",
   "execution_count": 27,
   "id": "be521cd1-9ee2-47b0-a4af-7754e1c958a0",
   "metadata": {},
   "outputs": [],
   "source": [
    "# auc scores\n",
    "auc_score1 = roc_auc_score(y_test, pred_prob1[:,1])"
   ]
  },
  {
   "cell_type": "code",
   "execution_count": 28,
   "id": "b8af3966-311a-4755-96ed-8fc65e983c4c",
   "metadata": {},
   "outputs": [
    {
     "name": "stdout",
     "output_type": "stream",
     "text": [
      "0.9916396979503777\n"
     ]
    }
   ],
   "source": [
    "print(auc_score1)"
   ]
  },
  {
   "cell_type": "code",
   "execution_count": 29,
   "id": "52b7bc50-f37a-4b65-b9c0-a3724d0761a9",
   "metadata": {},
   "outputs": [],
   "source": [
    "import matplotlib.pyplot as plt"
   ]
  },
  {
   "cell_type": "code",
   "execution_count": 30,
   "id": "4c05b725-f575-4c0e-9b78-b517bf583e4a",
   "metadata": {},
   "outputs": [
    {
     "data": {
      "text/plain": [
       "Text(0, 0.5, 'True Positive rate')"
      ]
     },
     "execution_count": 30,
     "metadata": {},
     "output_type": "execute_result"
    },
    {
     "data": {
      "image/png": "[encoded data removed]",
      "text/plain": [
       "<Figure size 432x288 with 1 Axes>"
      ]
     },
     "metadata": {
      "needs_background": "light"
     },
     "output_type": "display_data"
    }
   ],
   "source": [
    "plt.plot(fpr1, tpr1, linestyle='--',color='orange', label='Logistic Regression')\n",
    "plt.plot(p_fpr, p_tpr, linestyle='--', color='blue')\n",
    "# title\n",
    "plt.title('ROC curve')\n",
    "# x label\n",
    "plt.xlabel('False Positive Rate')\n",
    "# y label\n",
    "plt.ylabel('True Positive rate')"
   ]
  },
  {
   "cell_type": "code",
   "execution_count": null,
   "id": "cfd1689f-0fe0-4d31-a286-2d741738146e",
   "metadata": {},
   "outputs": [],
   "source": []
  }
 ],
 "metadata": {
  "kernelspec": {
   "display_name": "Python 3 (ipykernel)",
   "language": "python",
   "name": "python3"
  },
  "language_info": {
   "codemirror_mode": {
    "name": "ipython",
    "version": 3
   },
   "file_extension": ".py",
   "mimetype": "text/x-python",
   "name": "python",
   "nbconvert_exporter": "python",
   "pygments_lexer": "ipython3",
   "version": "3.10.2"
  }
 },
 "nbformat": 4,
 "nbformat_minor": 5
}
